{
 "cells": [
  {
   "cell_type": "code",
   "execution_count": 1,
   "id": "5fd4ba37",
   "metadata": {},
   "outputs": [
    {
     "name": "stderr",
     "output_type": "stream",
     "text": [
      "2023-01-05 15:31:11.394867: I tensorflow/core/platform/cpu_feature_guard.cc:193] This TensorFlow binary is optimized with oneAPI Deep Neural Network Library (oneDNN) to use the following CPU instructions in performance-critical operations:  AVX2 FMA\n",
      "To enable them in other operations, rebuild TensorFlow with the appropriate compiler flags.\n",
      "2023-01-05 15:31:11.611514: W tensorflow/compiler/xla/stream_executor/platform/default/dso_loader.cc:64] Could not load dynamic library 'libcudart.so.11.0'; dlerror: libcudart.so.11.0: cannot open shared object file: No such file or directory\n",
      "2023-01-05 15:31:11.611544: I tensorflow/compiler/xla/stream_executor/cuda/cudart_stub.cc:29] Ignore above cudart dlerror if you do not have a GPU set up on your machine.\n",
      "2023-01-05 15:31:13.239561: W tensorflow/compiler/xla/stream_executor/platform/default/dso_loader.cc:64] Could not load dynamic library 'libnvinfer.so.7'; dlerror: libnvinfer.so.7: cannot open shared object file: No such file or directory\n",
      "2023-01-05 15:31:13.239688: W tensorflow/compiler/xla/stream_executor/platform/default/dso_loader.cc:64] Could not load dynamic library 'libnvinfer_plugin.so.7'; dlerror: libnvinfer_plugin.so.7: cannot open shared object file: No such file or directory\n",
      "2023-01-05 15:31:13.239702: W tensorflow/compiler/tf2tensorrt/utils/py_utils.cc:38] TF-TRT Warning: Cannot dlopen some TensorRT libraries. If you would like to use Nvidia GPU with TensorRT, please make sure the missing libraries mentioned above are installed properly.\n"
     ]
    }
   ],
   "source": [
    "#import required libraries\n",
    "import tensorflow\n",
    "from tensorflow.keras.preprocessing.image import ImageDataGenerator\n",
    "from tensorflow.keras.models import Sequential\n",
    "from tensorflow.keras.layers import Conv2D,MaxPool2D,Flatten,Dense,Dropout,BatchNormalization\n",
    "from tensorflow.keras.callbacks import EarlyStopping\n",
    "import warnings\n",
    "warnings.filterwarnings('ignore')"
   ]
  },
  {
   "cell_type": "code",
   "execution_count": 2,
   "id": "6cb313b3",
   "metadata": {},
   "outputs": [],
   "source": [
    "#using image data generator to import the images from the dataset\n",
    "#divide dataset into train and validation dataset\n",
    "train_gen=ImageDataGenerator(rescale=1./255,shear_range=0.2,zoom_range=0.2,\n",
    "                             horizontal_flip=True,validation_split=0.25)"
   ]
  },
  {
   "cell_type": "code",
   "execution_count": 3,
   "id": "2fb4a4a2",
   "metadata": {},
   "outputs": [
    {
     "name": "stdout",
     "output_type": "stream",
     "text": [
      "Found 20670 images belonging to 2 classes.\n"
     ]
    }
   ],
   "source": [
    "#train dataset,we have to make sure that same target size as initialized for the image size\n",
    "train_data=train_gen.flow_from_directory(\"/home/ubuntu/Downloads/malaria dataset/cell_images/cell_images\",\n",
    "                                          target_size=(224,224),batch_size=64,\n",
    "                                         class_mode=\"binary\",subset=\"training\")"
   ]
  },
  {
   "cell_type": "code",
   "execution_count": 4,
   "id": "633b6e53",
   "metadata": {},
   "outputs": [
    {
     "name": "stdout",
     "output_type": "stream",
     "text": [
      "Found 6888 images belonging to 2 classes.\n"
     ]
    }
   ],
   "source": [
    "#validation dataset\n",
    "validation_data=train_gen.flow_from_directory(\"/home/ubuntu/Downloads/malaria dataset/cell_images/cell_images\",\n",
    "                                          target_size=(224,224),batch_size=64,\n",
    "                                              class_mode=\"binary\",subset=\"validation\")"
   ]
  },
  {
   "cell_type": "code",
   "execution_count": 5,
   "id": "7ee3124c",
   "metadata": {},
   "outputs": [
    {
     "data": {
      "text/plain": [
       "{'Parasitized': 0, 'Uninfected': 1}"
      ]
     },
     "execution_count": 5,
     "metadata": {},
     "output_type": "execute_result"
    }
   ],
   "source": [
    "validation_data.class_indices"
   ]
  },
  {
   "cell_type": "code",
   "execution_count": 13,
   "id": "23d417c9",
   "metadata": {},
   "outputs": [
    {
     "data": {
      "text/plain": [
       "array([0, 0, 0, ..., 1, 1, 1], dtype=int32)"
      ]
     },
     "execution_count": 13,
     "metadata": {},
     "output_type": "execute_result"
    }
   ],
   "source": [
    "validation_data.classes"
   ]
  },
  {
   "cell_type": "code",
   "execution_count": 6,
   "id": "c1f056fa",
   "metadata": {},
   "outputs": [
    {
     "name": "stderr",
     "output_type": "stream",
     "text": [
      "2023-01-05 15:32:11.881421: W tensorflow/compiler/xla/stream_executor/platform/default/dso_loader.cc:64] Could not load dynamic library 'libcuda.so.1'; dlerror: libcuda.so.1: cannot open shared object file: No such file or directory\n",
      "2023-01-05 15:32:11.881455: W tensorflow/compiler/xla/stream_executor/cuda/cuda_driver.cc:265] failed call to cuInit: UNKNOWN ERROR (303)\n",
      "2023-01-05 15:32:11.881478: I tensorflow/compiler/xla/stream_executor/cuda/cuda_diagnostics.cc:156] kernel driver does not appear to be running on this host (ubuntu-Zako): /proc/driver/nvidia/version does not exist\n",
      "2023-01-05 15:32:11.883680: I tensorflow/core/platform/cpu_feature_guard.cc:193] This TensorFlow binary is optimized with oneAPI Deep Neural Network Library (oneDNN) to use the following CPU instructions in performance-critical operations:  AVX2 FMA\n",
      "To enable them in other operations, rebuild TensorFlow with the appropriate compiler flags.\n"
     ]
    }
   ],
   "source": [
    "mob_net=tensorflow.keras.applications.MobileNetV2(weights=\"imagenet\",input_shape=(224,224,3),include_top=False)\n",
    "\n",
    "mob_net.trainable=False"
   ]
  },
  {
   "cell_type": "code",
   "execution_count": 7,
   "id": "96944fc3",
   "metadata": {},
   "outputs": [],
   "source": [
    "#built architecture\n",
    "model1=Sequential()\n",
    "\n",
    "model1.add(mob_net)\n",
    "\n",
    "model1.add(Flatten())\n",
    "\n",
    "model1.add(Dense(units=32,activation=\"relu\"))\n",
    "model1.add(Dropout(0.20))\n",
    "model1.add(Dense(units=16,activation=\"relu\"))\n",
    "model1.add(BatchNormalization())\n",
    "model1.add(Dropout(0.20))\n",
    "model1.add(Dense(units=1,activation=\"sigmoid\"))"
   ]
  },
  {
   "cell_type": "code",
   "execution_count": 8,
   "id": "6f7d6c0b",
   "metadata": {},
   "outputs": [
    {
     "name": "stdout",
     "output_type": "stream",
     "text": [
      "Model: \"sequential\"\n",
      "_________________________________________________________________\n",
      " Layer (type)                Output Shape              Param #   \n",
      "=================================================================\n",
      " mobilenetv2_1.00_224 (Funct  (None, 7, 7, 1280)       2257984   \n",
      " ional)                                                          \n",
      "                                                                 \n",
      " flatten (Flatten)           (None, 62720)             0         \n",
      "                                                                 \n",
      " dense (Dense)               (None, 32)                2007072   \n",
      "                                                                 \n",
      " dropout (Dropout)           (None, 32)                0         \n",
      "                                                                 \n",
      " dense_1 (Dense)             (None, 16)                528       \n",
      "                                                                 \n",
      " batch_normalization (BatchN  (None, 16)               64        \n",
      " ormalization)                                                   \n",
      "                                                                 \n",
      " dropout_1 (Dropout)         (None, 16)                0         \n",
      "                                                                 \n",
      " dense_2 (Dense)             (None, 1)                 17        \n",
      "                                                                 \n",
      "=================================================================\n",
      "Total params: 4,265,665\n",
      "Trainable params: 2,007,649\n",
      "Non-trainable params: 2,258,016\n",
      "_________________________________________________________________\n"
     ]
    }
   ],
   "source": [
    "model1.summary()"
   ]
  },
  {
   "cell_type": "code",
   "execution_count": 9,
   "id": "3edf7852",
   "metadata": {},
   "outputs": [],
   "source": [
    "#compile the model\n",
    "model1.compile(optimizer=\"adam\",loss=\"binary_crossentropy\",metrics=[\"accuracy\"])"
   ]
  },
  {
   "cell_type": "code",
   "execution_count": 10,
   "id": "69964110",
   "metadata": {},
   "outputs": [],
   "source": [
    "# to avoid overfittig \n",
    "early_stop = EarlyStopping(monitor ='val_loss',patience =2)"
   ]
  },
  {
   "cell_type": "code",
   "execution_count": 11,
   "id": "18d1b149",
   "metadata": {},
   "outputs": [
    {
     "name": "stdout",
     "output_type": "stream",
     "text": [
      "Epoch 1/5\n"
     ]
    },
    {
     "name": "stderr",
     "output_type": "stream",
     "text": [
      "2023-01-05 15:33:36.535074: W tensorflow/tsl/framework/cpu_allocator_impl.cc:82] Allocation of 102760448 exceeds 10% of free system memory.\n",
      "2023-01-05 15:33:36.709898: W tensorflow/tsl/framework/cpu_allocator_impl.cc:82] Allocation of 102760448 exceeds 10% of free system memory.\n",
      "2023-01-05 15:33:36.823183: W tensorflow/tsl/framework/cpu_allocator_impl.cc:82] Allocation of 102760448 exceeds 10% of free system memory.\n",
      "2023-01-05 15:33:36.940057: W tensorflow/tsl/framework/cpu_allocator_impl.cc:82] Allocation of 308281344 exceeds 10% of free system memory.\n",
      "2023-01-05 15:33:37.146190: W tensorflow/tsl/framework/cpu_allocator_impl.cc:82] Allocation of 313810944 exceeds 10% of free system memory.\n"
     ]
    },
    {
     "name": "stdout",
     "output_type": "stream",
     "text": [
      "323/323 [==============================] - 884s 3s/step - loss: 0.2771 - accuracy: 0.8874 - val_loss: 0.1815 - val_accuracy: 0.9345\n",
      "Epoch 2/5\n",
      "323/323 [==============================] - 841s 3s/step - loss: 0.1909 - accuracy: 0.9315 - val_loss: 0.1777 - val_accuracy: 0.9360\n",
      "Epoch 3/5\n",
      "323/323 [==============================] - 834s 3s/step - loss: 0.1800 - accuracy: 0.9351 - val_loss: 0.1601 - val_accuracy: 0.9421\n",
      "Epoch 4/5\n",
      "323/323 [==============================] - 852s 3s/step - loss: 0.1716 - accuracy: 0.9382 - val_loss: 0.1820 - val_accuracy: 0.9339\n",
      "Epoch 5/5\n",
      "323/323 [==============================] - 841s 3s/step - loss: 0.1681 - accuracy: 0.9388 - val_loss: 0.1607 - val_accuracy: 0.9399\n"
     ]
    },
    {
     "data": {
      "text/plain": [
       "<keras.callbacks.History at 0x7f3e88738670>"
      ]
     },
     "execution_count": 11,
     "metadata": {},
     "output_type": "execute_result"
    }
   ],
   "source": [
    "#fit the model\n",
    "model1.fit(train_data,validation_data=validation_data,callbacks=[early_stop],epochs=5)"
   ]
  },
  {
   "cell_type": "code",
   "execution_count": 12,
   "id": "5280e786",
   "metadata": {},
   "outputs": [],
   "source": [
    "model1.save('malaria_mobnet_model.h5')"
   ]
  }
 ],
 "metadata": {
  "kernelspec": {
   "display_name": "Python 3 (ipykernel)",
   "language": "python",
   "name": "python3"
  },
  "language_info": {
   "codemirror_mode": {
    "name": "ipython",
    "version": 3
   },
   "file_extension": ".py",
   "mimetype": "text/x-python",
   "name": "python",
   "nbconvert_exporter": "python",
   "pygments_lexer": "ipython3",
   "version": "3.9.12"
  }
 },
 "nbformat": 4,
 "nbformat_minor": 5
}
