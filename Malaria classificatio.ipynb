{
 "cells": [
  {
   "cell_type": "code",
   "execution_count": 1,
   "id": "8b8d6f16",
   "metadata": {},
   "outputs": [
    {
     "name": "stderr",
     "output_type": "stream",
     "text": [
      "2023-01-05 10:59:23.085015: I tensorflow/core/platform/cpu_feature_guard.cc:193] This TensorFlow binary is optimized with oneAPI Deep Neural Network Library (oneDNN) to use the following CPU instructions in performance-critical operations:  AVX2 FMA\n",
      "To enable them in other operations, rebuild TensorFlow with the appropriate compiler flags.\n",
      "2023-01-05 10:59:23.252400: W tensorflow/compiler/xla/stream_executor/platform/default/dso_loader.cc:64] Could not load dynamic library 'libcudart.so.11.0'; dlerror: libcudart.so.11.0: cannot open shared object file: No such file or directory\n",
      "2023-01-05 10:59:23.252423: I tensorflow/compiler/xla/stream_executor/cuda/cudart_stub.cc:29] Ignore above cudart dlerror if you do not have a GPU set up on your machine.\n",
      "2023-01-05 10:59:24.029067: W tensorflow/compiler/xla/stream_executor/platform/default/dso_loader.cc:64] Could not load dynamic library 'libnvinfer.so.7'; dlerror: libnvinfer.so.7: cannot open shared object file: No such file or directory\n",
      "2023-01-05 10:59:24.029146: W tensorflow/compiler/xla/stream_executor/platform/default/dso_loader.cc:64] Could not load dynamic library 'libnvinfer_plugin.so.7'; dlerror: libnvinfer_plugin.so.7: cannot open shared object file: No such file or directory\n",
      "2023-01-05 10:59:24.029155: W tensorflow/compiler/tf2tensorrt/utils/py_utils.cc:38] TF-TRT Warning: Cannot dlopen some TensorRT libraries. If you would like to use Nvidia GPU with TensorRT, please make sure the missing libraries mentioned above are installed properly.\n"
     ]
    }
   ],
   "source": [
    "#import required libraries\n",
    "import tensorflow\n",
    "from tensorflow.keras.preprocessing.image import ImageDataGenerator\n",
    "from tensorflow.keras.models import Sequential\n",
    "from tensorflow.keras.layers import Conv2D,MaxPool2D,Flatten,Dense,Dropout,BatchNormalization\n",
    "from tensorflow.keras.callbacks import EarlyStopping\n",
    "import warnings\n",
    "warnings.filterwarnings('ignore')"
   ]
  },
  {
   "cell_type": "code",
   "execution_count": 2,
   "id": "f604f863",
   "metadata": {},
   "outputs": [],
   "source": [
    "#using image data generator to import the images from the dataset\n",
    "#divide dataset into train and validation dataset\n",
    "train_gen=ImageDataGenerator(rescale=1./255,shear_range=0.2,zoom_range=0.2,\n",
    "                             horizontal_flip=True,validation_split=0.25)"
   ]
  },
  {
   "cell_type": "code",
   "execution_count": 3,
   "id": "1e1f3f02",
   "metadata": {},
   "outputs": [
    {
     "name": "stdout",
     "output_type": "stream",
     "text": [
      "Found 20670 images belonging to 2 classes.\n"
     ]
    }
   ],
   "source": [
    "#train dataset,we have to make sure that same target size as initialized for the image size\n",
    "train_data=train_gen.flow_from_directory(\"/home/ubuntu/Downloads/malaria dataset/cell_images/cell_images\",\n",
    "                                          target_size=(224,224),batch_size=64,\n",
    "                                         class_mode=\"binary\",subset=\"training\")"
   ]
  },
  {
   "cell_type": "code",
   "execution_count": 4,
   "id": "d3053adc",
   "metadata": {},
   "outputs": [
    {
     "name": "stdout",
     "output_type": "stream",
     "text": [
      "Found 6888 images belonging to 2 classes.\n"
     ]
    }
   ],
   "source": [
    "#validation dataset\n",
    "validation_data=train_gen.flow_from_directory(\"/home/ubuntu/Downloads/malaria dataset/cell_images/cell_images\",\n",
    "                                          target_size=(224,224),batch_size=64,\n",
    "                                              class_mode=\"binary\",subset=\"validation\")"
   ]
  },
  {
   "cell_type": "code",
   "execution_count": 16,
   "id": "669d3ac4",
   "metadata": {},
   "outputs": [
    {
     "data": {
      "text/plain": [
       "{'Parasitized': 0, 'Uninfected': 1}"
      ]
     },
     "execution_count": 16,
     "metadata": {},
     "output_type": "execute_result"
    }
   ],
   "source": [
    "validation_data.class_indices"
   ]
  },
  {
   "cell_type": "markdown",
   "id": "7fef3c1d",
   "metadata": {},
   "source": [
    "# Model Creation"
   ]
  },
  {
   "cell_type": "code",
   "execution_count": 5,
   "id": "3a34eda7",
   "metadata": {},
   "outputs": [
    {
     "name": "stderr",
     "output_type": "stream",
     "text": [
      "2023-01-05 10:59:25.673365: W tensorflow/compiler/xla/stream_executor/platform/default/dso_loader.cc:64] Could not load dynamic library 'libcuda.so.1'; dlerror: libcuda.so.1: cannot open shared object file: No such file or directory\n",
      "2023-01-05 10:59:25.673404: W tensorflow/compiler/xla/stream_executor/cuda/cuda_driver.cc:265] failed call to cuInit: UNKNOWN ERROR (303)\n",
      "2023-01-05 10:59:25.673438: I tensorflow/compiler/xla/stream_executor/cuda/cuda_diagnostics.cc:156] kernel driver does not appear to be running on this host (ubuntu-Zako): /proc/driver/nvidia/version does not exist\n",
      "2023-01-05 10:59:25.673692: I tensorflow/core/platform/cpu_feature_guard.cc:193] This TensorFlow binary is optimized with oneAPI Deep Neural Network Library (oneDNN) to use the following CPU instructions in performance-critical operations:  AVX2 FMA\n",
      "To enable them in other operations, rebuild TensorFlow with the appropriate compiler flags.\n"
     ]
    }
   ],
   "source": [
    "model = Sequential()\n",
    "\n",
    "model.add(Conv2D(64,(3,3),activation = 'relu',input_shape = (224,224,3)))\n",
    "model.add(MaxPool2D(3,3))\n",
    "\n",
    "model.add(Conv2D(32,(3,3),activation = 'relu'))\n",
    "model.add(MaxPool2D(3,3))\n",
    "\n",
    "\n",
    "model.add(Conv2D(16,(3,3),activation = 'relu'))\n",
    "model.add(MaxPool2D(3,3))\n",
    "\n",
    "model.add(Flatten())\n",
    "\n",
    "model.add(Dense(64,activation = 'relu'))\n",
    "model.add(Dropout(0.50))\n",
    "model.add(BatchNormalization())\n",
    "\n",
    "model.add(Dense(32,activation = 'relu'))\n",
    "model.add(Dropout(0.25))\n",
    "model.add(BatchNormalization())\n",
    "\n",
    "model.add(Dense(1,activation = 'sigmoid'))"
   ]
  },
  {
   "cell_type": "code",
   "execution_count": 6,
   "id": "dbdd494a",
   "metadata": {},
   "outputs": [
    {
     "name": "stdout",
     "output_type": "stream",
     "text": [
      "Model: \"sequential\"\n",
      "_________________________________________________________________\n",
      " Layer (type)                Output Shape              Param #   \n",
      "=================================================================\n",
      " conv2d (Conv2D)             (None, 222, 222, 64)      1792      \n",
      "                                                                 \n",
      " max_pooling2d (MaxPooling2D  (None, 74, 74, 64)       0         \n",
      " )                                                               \n",
      "                                                                 \n",
      " conv2d_1 (Conv2D)           (None, 72, 72, 32)        18464     \n",
      "                                                                 \n",
      " max_pooling2d_1 (MaxPooling  (None, 24, 24, 32)       0         \n",
      " 2D)                                                             \n",
      "                                                                 \n",
      " conv2d_2 (Conv2D)           (None, 22, 22, 16)        4624      \n",
      "                                                                 \n",
      " max_pooling2d_2 (MaxPooling  (None, 7, 7, 16)         0         \n",
      " 2D)                                                             \n",
      "                                                                 \n",
      " flatten (Flatten)           (None, 784)               0         \n",
      "                                                                 \n",
      " dense (Dense)               (None, 64)                50240     \n",
      "                                                                 \n",
      " dropout (Dropout)           (None, 64)                0         \n",
      "                                                                 \n",
      " batch_normalization (BatchN  (None, 64)               256       \n",
      " ormalization)                                                   \n",
      "                                                                 \n",
      " dense_1 (Dense)             (None, 32)                2080      \n",
      "                                                                 \n",
      " dropout_1 (Dropout)         (None, 32)                0         \n",
      "                                                                 \n",
      " batch_normalization_1 (Batc  (None, 32)               128       \n",
      " hNormalization)                                                 \n",
      "                                                                 \n",
      " dense_2 (Dense)             (None, 1)                 33        \n",
      "                                                                 \n",
      "=================================================================\n",
      "Total params: 77,617\n",
      "Trainable params: 77,425\n",
      "Non-trainable params: 192\n",
      "_________________________________________________________________\n"
     ]
    }
   ],
   "source": [
    "model.summary()"
   ]
  },
  {
   "cell_type": "code",
   "execution_count": 7,
   "id": "8550107c",
   "metadata": {},
   "outputs": [],
   "source": [
    "# compiling the model by telling the model which cost and optimization method to use\n",
    "model.compile(optimizer='adam',loss = 'binary_crossentropy',metrics = ['accuracy'])"
   ]
  },
  {
   "cell_type": "code",
   "execution_count": 8,
   "id": "a401c65c",
   "metadata": {},
   "outputs": [],
   "source": [
    "# to avoid overfittig \n",
    "early_stop = EarlyStopping(monitor ='val_loss',patience =2)"
   ]
  },
  {
   "cell_type": "code",
   "execution_count": 9,
   "id": "3a3b7586",
   "metadata": {},
   "outputs": [
    {
     "name": "stdout",
     "output_type": "stream",
     "text": [
      "Epoch 1/5\n"
     ]
    },
    {
     "name": "stderr",
     "output_type": "stream",
     "text": [
      "2023-01-05 10:59:28.942658: W tensorflow/tsl/framework/cpu_allocator_impl.cc:82] Allocation of 807469056 exceeds 10% of free system memory.\n",
      "2023-01-05 10:59:30.870852: W tensorflow/tsl/framework/cpu_allocator_impl.cc:82] Allocation of 807469056 exceeds 10% of free system memory.\n"
     ]
    },
    {
     "name": "stdout",
     "output_type": "stream",
     "text": [
      "\r",
      "  1/323 [..............................] - ETA: 31:58 - loss: 1.0808 - accuracy: 0.4219"
     ]
    },
    {
     "name": "stderr",
     "output_type": "stream",
     "text": [
      "2023-01-05 10:59:32.714024: W tensorflow/tsl/framework/cpu_allocator_impl.cc:82] Allocation of 807469056 exceeds 10% of free system memory.\n",
      "2023-01-05 10:59:34.810295: W tensorflow/tsl/framework/cpu_allocator_impl.cc:82] Allocation of 807469056 exceeds 10% of free system memory.\n"
     ]
    },
    {
     "name": "stdout",
     "output_type": "stream",
     "text": [
      "\b\b\b\b\b\b\b\b\b\b\b\b\b\b\b\b\b\b\b\b\b\b\b\b\b\b\b\b\b\b\b\b\b\b\b\b\b\b\b\b\b\b\b\b\b\b\b\b\b\b\b\b\b\b\b\b\b\b\b\b\b\b\b\b\b\b\b\b\b\b\b\b\b\b\b\b\b\b\b\b\b\b\b\b\b\b\b\r",
      "  2/323 [..............................] - ETA: 19:21 - loss: 1.0308 - accuracy: 0.4297"
     ]
    },
    {
     "name": "stderr",
     "output_type": "stream",
     "text": [
      "2023-01-05 10:59:36.332066: W tensorflow/tsl/framework/cpu_allocator_impl.cc:82] Allocation of 807469056 exceeds 10% of free system memory.\n"
     ]
    },
    {
     "name": "stdout",
     "output_type": "stream",
     "text": [
      "323/323 [==============================] - 1186s 4s/step - loss: 0.5900 - accuracy: 0.6775 - val_loss: 0.3303 - val_accuracy: 0.9292\n",
      "Epoch 2/5\n",
      "323/323 [==============================] - 1172s 4s/step - loss: 0.2151 - accuracy: 0.9324 - val_loss: 0.1562 - val_accuracy: 0.9502\n",
      "Epoch 3/5\n",
      "323/323 [==============================] - 1216s 4s/step - loss: 0.1777 - accuracy: 0.9466 - val_loss: 0.1424 - val_accuracy: 0.9514\n",
      "Epoch 4/5\n",
      "323/323 [==============================] - 1350s 4s/step - loss: 0.1644 - accuracy: 0.9497 - val_loss: 0.1372 - val_accuracy: 0.9534\n",
      "Epoch 5/5\n",
      "323/323 [==============================] - 1282s 4s/step - loss: 0.1637 - accuracy: 0.9512 - val_loss: 0.1372 - val_accuracy: 0.9553\n"
     ]
    },
    {
     "data": {
      "text/plain": [
       "<keras.callbacks.History at 0x7f2eccb92b50>"
      ]
     },
     "execution_count": 9,
     "metadata": {},
     "output_type": "execute_result"
    }
   ],
   "source": [
    "#fit the model\n",
    "history=model.fit(train_data,validation_data=validation_data,callbacks=[early_stop],epochs = 5)\n",
    "history"
   ]
  },
  {
   "cell_type": "code",
   "execution_count": 11,
   "id": "884f9f1a",
   "metadata": {},
   "outputs": [],
   "source": [
    "model.save('mal_model.h5')"
   ]
  },
  {
   "cell_type": "code",
   "execution_count": 12,
   "id": "b2c31c5a",
   "metadata": {},
   "outputs": [],
   "source": [
    "from tensorflow.keras.preprocessing.image import load_img,img_to_array\n",
    "import matplotlib.pyplot as plt\n",
    "import numpy as np"
   ]
  },
  {
   "cell_type": "code",
   "execution_count": 14,
   "id": "c2ac16ae",
   "metadata": {},
   "outputs": [
    {
     "data": {
      "text/plain": [
       "<matplotlib.image.AxesImage at 0x7f2e96ef1c70>"
      ]
     },
     "execution_count": 14,
     "metadata": {},
     "output_type": "execute_result"
    },
    {
     "data": {
      "image/png": "[encoded data removed]",
      "text/plain": [
       "<Figure size 432x288 with 1 Axes>"
      ]
     },
     "metadata": {
      "needs_background": "light"
     },
     "output_type": "display_data"
    }
   ],
   "source": [
    "img=load_img('/home/ubuntu/Downloads/malaria dataset/cell_images/cell_images/Parasitized/C33P1thinF_IMG_20150619_114756a_cell_179.png',target_size=(224,224,3))\n",
    "plt.imshow(img)"
   ]
  },
  {
   "cell_type": "code",
   "execution_count": 15,
   "id": "9f3557c3",
   "metadata": {},
   "outputs": [],
   "source": [
    "img=img_to_array(img)\n",
    "img=np.expand_dims(img,axis=0)\n",
    "img=img/255"
   ]
  },
  {
   "cell_type": "code",
   "execution_count": 18,
   "id": "560ce754",
   "metadata": {},
   "outputs": [
    {
     "name": "stdout",
     "output_type": "stream",
     "text": [
      "1/1 [==============================] - 0s 187ms/step\n",
      "Parasitized\n"
     ]
    }
   ],
   "source": [
    "predict=model.predict(img)\n",
    "if predict<=0.5:\n",
    "    print('Parasitized')\n",
    "else:\n",
    "    print('Uninfected')"
   ]
  },
  {
   "cell_type": "code",
   "execution_count": 19,
   "id": "ade83659",
   "metadata": {},
   "outputs": [
    {
     "name": "stdout",
     "output_type": "stream",
     "text": [
      "1/1 [==============================] - 0s 39ms/step\n"
     ]
    },
    {
     "data": {
      "text/plain": [
       "array([[0.]], dtype=float32)"
      ]
     },
     "execution_count": 19,
     "metadata": {},
     "output_type": "execute_result"
    }
   ],
   "source": [
    "np.round(model.predict(img))"
   ]
  },
  {
   "cell_type": "code",
   "execution_count": 20,
   "id": "1dc9f88a",
   "metadata": {},
   "outputs": [
    {
     "name": "stdout",
     "output_type": "stream",
     "text": [
      "[[0.00064356]]\n"
     ]
    }
   ],
   "source": [
    "print(predict)"
   ]
  }
 ],
 "metadata": {
  "kernelspec": {
   "display_name": "Python 3 (ipykernel)",
   "language": "python",
   "name": "python3"
  },
  "language_info": {
   "codemirror_mode": {
    "name": "ipython",
    "version": 3
   },
   "file_extension": ".py",
   "mimetype": "text/x-python",
   "name": "python",
   "nbconvert_exporter": "python",
   "pygments_lexer": "ipython3",
   "version": "3.9.12"
  }
 },
 "nbformat": 4,
 "nbformat_minor": 5
}
